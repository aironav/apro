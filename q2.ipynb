{
 "cells": [
  {
   "cell_type": "code",
   "execution_count": 3,
   "id": "3211a3d0-71d3-4f8f-8661-34e79f019079",
   "metadata": {},
   "outputs": [
    {
     "name": "stdout",
     "output_type": "stream",
     "text": [
      "active process id are - [1, 2, 3, 4, 5, 7, 10, 11, 12, 13, 14, 15, 16, 17, 18, 19, 20, 21, 23, 24, 25, 26, 27, 29, 30, 31, 32, 33, 35, 36, 37, 38, 39, 41, 42, 43, 44, 45, 47, 48, 49, 50, 51, 52, 53, 54, 55, 56, 57, 59, 60, 61, 62, 63, 65, 66, 67, 68, 69, 71, 72, 73, 74, 75, 77, 78, 79, 80, 81, 83, 84, 85, 86, 87, 88, 89, 90, 91, 92, 139, 140, 141, 142, 143, 144, 145, 146, 147, 149, 150, 152, 153, 155, 156, 158, 159, 160, 161, 167, 170, 175, 176, 178, 186, 189, 198, 199, 200, 201, 202, 203, 204, 205, 238, 244, 246, 255, 256, 257, 258, 265, 266, 286, 287, 292, 301, 326, 356, 375, 393, 437, 456, 501, 515, 553, 568, 569, 571, 572, 573, 575, 593, 596, 597, 598, 600, 608, 616, 620, 684, 699, 705, 714, 735, 766, 767, 768, 769, 770, 771, 772, 773, 774, 775, 776, 777, 778, 779, 810, 836, 837, 838, 839, 937, 1155, 1227, 1408, 1578, 1583, 1591, 1611, 1620, 1621, 1627, 1628, 1629, 1630, 1639, 1647, 1658, 1662, 1664, 1674, 1681, 1701, 1712, 1714, 1717, 1749, 1759, 1761, 1768, 1777, 1779, 1783, 1805, 1830, 1834, 1841, 1842, 1848, 1932, 1938, 1947, 1953, 1957, 1968, 1974, 1991, 1993, 2000, 2016, 2017, 2019, 2022, 2024, 2029, 2032, 2034, 2035, 2041, 2044, 2049, 2053, 2059, 2063, 2068, 2084, 2091, 2101, 2105, 2116, 2154, 2180, 2200, 2230, 2297, 2366, 2492, 2497, 2498, 2500, 2502, 2508, 2509, 2510, 2513, 2523, 2573, 2659, 2677, 2678, 2688, 3013, 3030, 3125, 4809, 4824, 5362, 6747, 7290, 7585, 10246, 22476, 22650, 23008, 23156, 23163, 23790, 23791, 23796, 23863, 23904, 24133, 43863, 44095, 44098, 44103, 44121, 44282, 44365, 47498, 48550, 48700, 49297, 49551, 49584, 49819, 51012, 51420, 51466, 51500, 51728, 51789, 51916, 52055, 52068, 52102, 52180, 52304, 52839, 52971, 53078, 53796, 54058, 54215, 54463, 54466, 54471, 54723, 54801, 55031, 55044, 55073]\n"
     ]
    }
   ],
   "source": [
    "import psutil\n",
    "pid = []\n",
    "for proc in psutil.process_iter():\n",
    "       pid.append(proc.pid)\n",
    "print('active process id are -', pid)"
   ]
  },
  {
   "cell_type": "code",
   "execution_count": 2,
   "id": "c97d69b1-dca1-43b6-813b-63f570cff5e2",
   "metadata": {},
   "outputs": [
    {
     "name": "stdout",
     "output_type": "stream",
     "text": [
      "consumer: active\n",
      "producer: active\n",
      "producer added -- 0\n",
      "consumer got -- 0\n",
      "producer added -- 1\n",
      "producer added -- 2\n",
      "producer added -- 3\n",
      "consumer got -- 1\n",
      "producer added -- 4\n",
      "producer added -- 5\n",
      "producer added -- 6\n",
      "consumer got -- 2\n",
      "producer added -- 7\n",
      "producer added -- 8\n",
      "producer added -- 9\n",
      "producer: finish\n",
      "consumer got -- 3\n",
      "consumer got -- 4\n",
      "consumer got -- 5\n",
      "consumer got -- 6\n",
      "consumer got -- 7\n",
      "consumer got -- 8\n",
      "consumer got -- 9\n",
      "consumer: finish\n"
     ]
    }
   ],
   "source": [
    "from queue import Queue\n",
    "from time import sleep\n",
    "from threading import Thread\n",
    "from random import random\n",
    "\n",
    "def producer(queue):\n",
    "    print('producer: active')\n",
    "    for i in range(10):\n",
    "        value = random()\n",
    "        sleep(value)\n",
    "        t = i\n",
    "        queue.put(t)\n",
    "        print('producer added --', t)\n",
    "    queue.put(None)\n",
    "    print('producer: finish')\n",
    "    \n",
    "def consumer(queue):\n",
    "    print('consumer: active')\n",
    "    while True:\n",
    "        t = queue.get()\n",
    "        if t is None:\n",
    "            break\n",
    "        sleep(t)\n",
    "        print('consumer got --', t)\n",
    "    print('consumer: finish')\n",
    "    \n",
    "queue = Queue()\n",
    "consumer = Thread(target=consumer, args=(queue,))\n",
    "consumer.start()\n",
    "producer = Thread(target=producer, args=(queue,))\n",
    "producer.start()\n",
    "producer.join()\n",
    "consumer.join()"
   ]
  },
  {
   "cell_type": "code",
   "execution_count": null,
   "id": "4e788fff-e049-4eed-876c-b6ebb7399506",
   "metadata": {},
   "outputs": [],
   "source": []
  }
 ],
 "metadata": {
  "kernelspec": {
   "display_name": "Python 3 (ipykernel)",
   "language": "python",
   "name": "python3"
  },
  "language_info": {
   "codemirror_mode": {
    "name": "ipython",
    "version": 3
   },
   "file_extension": ".py",
   "mimetype": "text/x-python",
   "name": "python",
   "nbconvert_exporter": "python",
   "pygments_lexer": "ipython3",
   "version": "3.10.4"
  }
 },
 "nbformat": 4,
 "nbformat_minor": 5
}
